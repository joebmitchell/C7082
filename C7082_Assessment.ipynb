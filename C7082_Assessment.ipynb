{
  "nbformat": 4,
  "nbformat_minor": 0,
  "metadata": {
    "colab": {
      "provenance": []
    },
    "kernelspec": {
      "name": "python3",
      "display_name": "Python 3"
    },
    "language_info": {
      "name": "python"
    },
    "gpuClass": "premium"
  },
  "cells": [
    {
      "cell_type": "markdown",
      "source": [
        "# Diagnosing chicken disease from photos of their faeces "
      ],
      "metadata": {
        "id": "BzXL1sbRUjuF"
      }
    },
    {
      "cell_type": "markdown",
      "source": [
        "## 1. Background\n",
        "\n",
        "There are approximately 124 million broiler chickens in the UK and 14 million laying hens. Chickens have one of the highest feed converion efficiencies of all farmed animals and provide a large proportion of the UK's animal protein. Commercial production is based on very fine margins and so any ineffiencies must be minimised other profitability is rapidly reduced. As such these birds are kept to very high health standards and any suspicion of disease must be rapidly investigated in order to impliment the correct control measures.\n",
        "Three such diseases that are of concern to the international poultry industry are:\n",
        "\n",
        "\n",
        "1.   Newcastle disease :  This is a viral disease that can cause a wide variety of symptoms including high mortality, diarrhoea and respiratory distress. It is potentially zoonotic, although normally very mild. It hasn't been confirmed in the UK since 2006 and is a notificable disease.\n",
        "2.   Salmonella : This is a bacterial disease, that can cause minor symptoms in chickens including weakness and diarrhoea. It of most note though because it is zoonotic and may cause serious illness in humans through contaminated meat or eggs.\n",
        "3. Coccidiosis: This is a protozoal disease of birds that unlike the previous two is not zoonotic but can cause serious disease in flocks. Its main symptoms are severe diarrhoea, high mortaltily and reduced intakes and production.\n",
        "\n",
        "Of note with all these diseases is that they can cause diarrhoea in birds. At the minute when changes to faecal consistency is noted in flocks extensive microbiological testing is performed in order to identify the cause. This process takes at least 24hours normally and so if there were a way to speed up diagnosis it would allow for corrective action to be taken sooner minimising the impact. \n",
        "\n",
        "Artifical inteligence and deep learning has been used previously to try and identify the disease a chicken is suffering from using pictures of the bird (Quach et al. 2022) with an accuracy of 94%. This idea is explored further in this paper by testing if a model can be developed that can identify if newcastle disease (NCD), salmonella or coccidiosis is present or if the animal was healthy by using pictures of the birds faeces. \n",
        "\n",
        "\n",
        "\n",
        "\n"
      ],
      "metadata": {
        "id": "19dbM_C5UvQs"
      }
    },
    {
      "cell_type": "markdown",
      "source": [
        "## 2. Methods"
      ],
      "metadata": {
        "id": "_WaTyta5VKKk"
      }
    },
    {
      "cell_type": "markdown",
      "source": [
        "### 2.1 Data preparation\n",
        "\n",
        "The data for this project was sourced from Kaggle. The dataset contains 8067 jpg files that were taken with mobile phones in Tanzania between 2020-2021. The images are labeled as being from birds that are either healthy or infected with Salmonella, Coccidiosis or Newcastle Disease. The number of images in each category are shown in the table below along with the data counts after performing a 80/10/10 split for the final model. "
      ],
      "metadata": {
        "id": "wWN7ARIeUz8E"
      }
    },
    {
      "cell_type": "markdown",
      "source": [
        "Classification | Test  | Train | Validate | Total\n",
        "-------------------|------------------|-------------------|---------|---------\n",
        "Healthy      | 241 | 1923  |240 |2404\n",
        "Salmonella      | 263 | 2100  | 262 |2625\n",
        "Newcastle Disease     | 57 | 449 | 56 | 562\n",
        "Coccidiosis    | 249 | 1980 | 247 | 2476"
      ],
      "metadata": {
        "id": "rvE_EBjOeu6V"
      }
    },
    {
      "cell_type": "markdown",
      "source": [
        "The following code chunk installs the required packages for processing the data, creating the model and visualing the results"
      ],
      "metadata": {
        "id": "oXlcJQqXgOF4"
      }
    },
    {
      "cell_type": "code",
      "source": [
        "## Setting seed for reproducability \n",
        "\n",
        "from numpy.random import seed\n",
        "seed(1)\n",
        "from tensorflow.random import set_seed\n",
        "set_seed(2)\n",
        "\n",
        "## Setting up required packages\n",
        "!pip install split-folders\n",
        "\n",
        "import os\n",
        "import os.path\n",
        "import shutil\n",
        "import splitfolders\n",
        "import warnings\n",
        "import matplotlib.pyplot as plt\n",
        "import matplotlib.text as txt\n",
        "import numpy as np\n",
        "import tensorflow as tf\n",
        "from tensorflow.keras.preprocessing import image_dataset_from_directory\n",
        "import pandas as pd\n",
        "from pandas import DataFrame\n",
        "from tensorflow import keras\n",
        "from tensorflow.keras import layers, callbacks\n",
        "from tensorflow.keras.layers.experimental import preprocessing\n",
        "from google.colab import files\n",
        "from keras.layers.rnn import time_distributed\n",
        "import time\n",
        "import seaborn as sn\n",
        "from sklearn.metrics import confusion_matrix\n",
        "from keras.applications.vgg16 import VGG16\n",
        "from keras.applications.inception_v3 import InceptionV3\n",
        "from tensorflow.keras.applications import EfficientNetB3"
      ],
      "metadata": {
        "id": "1T4MV-avh0Mq"
      },
      "execution_count": null,
      "outputs": []
    },
    {
      "cell_type": "markdown",
      "source": [
        "The data is downloaded and processed into a format ready for use in keras to train, test and validate the models using the following 3 custom functions.\n",
        "The get_data() function downloads the data from kaggle, and splits it into train, test, and validate folders using a default split of 80/10/10. The data_size() funtion uses the keras function 'image_dataset_from_directory' to return autotuned variables of the respective datasets while allowing the batch size and pixel size to be altered."
      ],
      "metadata": {
        "id": "T7GGH3d2H4RG"
      }
    },
    {
      "cell_type": "code",
      "source": [
        "def mergefolders(root_src_dir, root_dst_dir): # create function to merge folders\n",
        "    \"\"\"\n",
        "    Merges two folders into one\n",
        "    root_src_dir: str - origin folder\n",
        "    root_dst_dir: str - destination folder\n",
        "    \n",
        "    \"\"\"\n",
        "    for src_dir, dirs, files in os.walk(root_src_dir):\n",
        "          dst_dir = src_dir.replace(root_src_dir, root_dst_dir, 1)\n",
        "          if not os.path.exists(dst_dir):\n",
        "              os.makedirs(dst_dir)\n",
        "          for file_ in files:\n",
        "              src_file = os.path.join(src_dir, file_)\n",
        "              dst_file = os.path.join(dst_dir, file_)\n",
        "              if os.path.exists(dst_file):\n",
        "                  os.remove(dst_file)\n",
        "              shutil.copy(src_file, dst_dir)\n"
      ],
      "metadata": {
        "id": "BRyq9zZFh6VL"
      },
      "execution_count": null,
      "outputs": []
    },
    {
      "cell_type": "code",
      "source": [
        "def get_data(test = 0.1, train = 0.8, validate = 0.1):\n",
        "  \n",
        "  \"\"\"\n",
        "  Removes any previously downloaded data then downloads 'chicken-disease-1' data from kaggle.\n",
        "  Splits data into seperate folders based on disease, then splits data into \n",
        "  test, train and validate using a default of 80/10/10\n",
        "\n",
        "    test: float - proportion of data to be partitioned into test data\n",
        "    train: float - proportion of data to be partitioined into training data\n",
        "    validate: float - proportion of data to be partitioned into validation data\n",
        "    \n",
        "    \"\"\"\n",
        "\n",
        " # remove any previously downloaded data\n",
        "  !rm -rf '/content/Train'\n",
        "  !rm -rf '/content/train_data.csv'\n",
        "  !rm -rf '/content/output'\n",
        "  !rm -rf '/content/chicken-disease-1 .zip'\n",
        "\n",
        "  !kaggle datasets download -d 'allandclive/chicken-disease-1 ' -p /content #download data\n",
        "  !unzip -qq 'chicken-disease-1 .zip' # unzip data\n",
        "  \n",
        "\n",
        "  folder_path = '/content/Train' # Set path where images are\n",
        "\n",
        "# create list of images to go through below\n",
        "  images = [f for f in os.listdir(folder_path) if os.path.isfile(os.path.join(folder_path, f))]\n",
        "\n",
        "  for image in images:\n",
        "    folder_name = image.split('.')[0] # Creates folder based on first part of name\n",
        "\n",
        "    new_path = os.path.join(folder_path, folder_name) # creates new path name\n",
        "    if not os.path.exists(new_path): # checks if path exixts\n",
        "      os.makedirs(new_path)  # if doesn't exists creates it\n",
        "\n",
        "    old_image_path = os.path.join(folder_path, image)\n",
        "    new_image_path = os.path.join(new_path, image)\n",
        "    shutil.move(old_image_path, new_image_path) # moves picture\n",
        "\n",
        "\n",
        "  # merge all folders with similar contents\n",
        "\n",
        "  mergefolders('/content/Train/pcrcocci', '/content/Train/cocci')\n",
        "  mergefolders('/content/Train/pcrsalmo', '/content/Train/salmo')\n",
        "  mergefolders('/content/Train/pcrncd', '/content/Train/ncd')\n",
        "  mergefolders('/content/Train/pcrhealthy', '/content/Train/healthy')\n",
        "\n",
        "  # remove folders not needed\n",
        "\n",
        "  !rm -rf '/content/Train/pcrsalmo'\n",
        "  !rm -rf '/content/Train/pcrncd'\n",
        "  !rm -rf '/content/Train/pcrhealthy'                    \n",
        "  !rm -rf '/content/Train/pcrcocci'\n",
        "\n",
        "  # Check folder counts\n",
        "  print(f\"cocci {len(os.listdir('/content/Train/cocci'))}\")\n",
        "  print(f\"healthy {len(os.listdir('/content/Train/healthy'))}\")\n",
        "  print(f\"ncd {len(os.listdir('/content/Train/ncd'))}\")\n",
        "  print(f\"salmonella {len(os.listdir('/content/Train/salmo'))}\")\n",
        "\n",
        "  # split data into test, train and validate partitions \n",
        "\n",
        "  splitfolders.ratio('Train', output=\"output\", seed=1337, ratio=(train,test,validate))\n"
      ],
      "metadata": {
        "id": "vdg0jY2mh7GX"
      },
      "execution_count": null,
      "outputs": []
    },
    {
      "cell_type": "code",
      "source": [
        "def data_size(pixel_size = 224, batch_size = 128):\n",
        "  \"\"\"\n",
        "    Create variables with the ready split data\n",
        "    Allows the pizel size and batch size to be set\n",
        "    Autotunes the data to allow increased model speed\n",
        "    Returns three variables in the order train, test and validate\n",
        "\n",
        "    pixel_size: int - Single number (x) which is used to set the pixel size of the image to (x,x)\n",
        "    batch_size: int - Size of batch of images for training the model\n",
        "    \"\"\"\n",
        "# creates variable with pixel size and batch size altered \n",
        "  ds_train_ = image_dataset_from_directory(\n",
        "      '/content/output/train', # sets source of images\n",
        "      labels='inferred', # infers labels from folder names\n",
        "      label_mode='categorical',\n",
        "      image_size=[pixel_size, pixel_size], # allows pixel size to be altered by function call\n",
        "      interpolation='nearest',\n",
        "      batch_size=batch_size, # allows batch size to be altered by function call\n",
        "      shuffle=True,\n",
        "  )\n",
        "\n",
        "  ds_valid_ = image_dataset_from_directory(\n",
        "      '/content/output/val', # sets source of images\n",
        "      labels='inferred',\n",
        "      label_mode='categorical',\n",
        "      image_size=[pixel_size, pixel_size], # allows pixel size to be altered by function call\n",
        "      interpolation='nearest',\n",
        "      batch_size=batch_size, # allows batch size to be altered by function call\n",
        "      shuffle=False,\n",
        "  )\n",
        "\n",
        "  ds_test_ = image_dataset_from_directory(\n",
        "      '/content/output/test', # sets source of images\n",
        "      labels='inferred',\n",
        "      label_mode='categorical',\n",
        "      image_size=[pixel_size, pixel_size],# allows pixel size to be altered by function call\n",
        "      interpolation='nearest',\n",
        "      batch_size= batch_size, # allows batch size to be altered by function call\n",
        "      shuffle=False,\n",
        "  )\n",
        "  \n",
        "  # Autotunes the data to allow for faster model processing\n",
        "  AUTOTUNE = tf.data.AUTOTUNE\n",
        "\n",
        "  ds_train_ = ds_train_.cache().prefetch(buffer_size=AUTOTUNE)\n",
        "  ds_test_ = ds_test_.cache().prefetch(buffer_size=AUTOTUNE)\n",
        "  ds_valid_ = ds_valid_.cache().prefetch(buffer_size=AUTOTUNE)\n",
        " \n",
        "  return [ds_train_, ds_test_, ds_valid_]"
      ],
      "metadata": {
        "id": "lVKuXjd9jMCK"
      },
      "execution_count": null,
      "outputs": []
    },
    {
      "cell_type": "markdown",
      "source": [
        "The first step in accessing the data from kaggle is to upload a kaggle.json file accessible from your kaggle account. An explainer of how to access this can be found on the [kaggle website](https://www.kaggle.com/general/74235). Once the file has been uploaded then the get_data() function can be run to download the data."
      ],
      "metadata": {
        "id": "gGOpQ0NlHGNd"
      }
    },
    {
      "cell_type": "code",
      "source": [
        "## Need to add kaggle.json file to allow data download from kaggle\n",
        "from google.colab import files\n",
        "files.upload()\n",
        "\n",
        "!mkdir ~/.kaggle\n",
        "!cp kaggle.json ~/.kaggle/\n",
        "!chmod 600 ~/.kaggle/kaggle.json"
      ],
      "metadata": {
        "id": "tS4AbMeviJtJ"
      },
      "execution_count": null,
      "outputs": []
    },
    {
      "cell_type": "code",
      "source": [
        "get_data() # Run Previously created function to download and split data\n"
      ],
      "metadata": {
        "id": "pRAF0UFVjuUf"
      },
      "execution_count": null,
      "outputs": []
    },
    {
      "cell_type": "markdown",
      "source": [
        "The downloaded images can be visualised below to check that they have been downloaded correctly and are labelled."
      ],
      "metadata": {
        "id": "9fAKF8kJTlOu"
      }
    },
    {
      "cell_type": "code",
      "source": [
        "# Create a vector of just the training dataset\n",
        "ds_train_ = image_dataset_from_directory(\n",
        "      '/content/output/train',\n",
        "      labels='inferred',\n",
        "      label_mode='categorical',\n",
        "      image_size=[224,224],\n",
        "      interpolation='nearest',\n",
        "      batch_size=32,\n",
        "      shuffle=True,\n",
        "  )\n",
        "\n",
        "# Set Matplotlib defaults\n",
        "plt.rc('figure', autolayout=True)\n",
        "plt.rc('axes', labelweight='bold', labelsize='large',\n",
        "       titleweight='bold', titlesize=18, titlepad=10)\n",
        "plt.rc('image', cmap='magma')\n",
        "warnings.filterwarnings(\"ignore\") # to clean up output cells\n",
        "class_names = ds_train_.class_names\n",
        "\n",
        "plt.figure(figsize=(10, 10))\n",
        "for images, labels in ds_train_.take(1):\n",
        "  for i in range(9): # select 9 images to show below\n",
        "    numpy_labels = labels.numpy()\n",
        "    x = (np.where(numpy_labels[i]==1)[0])\n",
        "    ax = plt.subplot(3, 3, i + 1)\n",
        "    plt.imshow(images[i].numpy().astype(\"uint8\"))\n",
        "    plt.title(class_names[int(x)])\n",
        "    plt.axis(\"off\")\n",
        "  "
      ],
      "metadata": {
        "id": "9sAFWy4QxU_N"
      },
      "execution_count": null,
      "outputs": []
    },
    {
      "cell_type": "markdown",
      "source": [
        "The three variables of train, test and validate can then be created using the data_size() function created earlier. By default the batch size is 128, and pixel size is (224,224)"
      ],
      "metadata": {
        "id": "bzfsBPRCJl3p"
      }
    },
    {
      "cell_type": "code",
      "source": [
        "ds_train_, ds_test_, ds_valid_ = data_size(batch_size = 32)\n"
      ],
      "metadata": {
        "id": "1Q3XavyIl3_o"
      },
      "execution_count": null,
      "outputs": []
    },
    {
      "cell_type": "markdown",
      "source": [
        "### 2.2 Build basic model\n",
        "\n",
        "A initial model was built using the keras sequential frameework. It included 2D convolutional layers with a 3x3 kernel size alternating with 2D max pooling layers. A Rectifified Linear Unit (relu) activation function was included with the convolutional layers as it allows complex non-linear relationships in the data to be learned.\n",
        "\n",
        "In compiling the model the 'adam' optimiser was used (Kingma and Ba, 2015) as it is simple to work with and has been shown to produce good results. The loss used is 'categorical_crossentropy', and the metric used 'accuracy'."
      ],
      "metadata": {
        "id": "cqicmIFaVUOw"
      }
    },
    {
      "cell_type": "code",
      "source": [
        "model = tf.keras.Sequential([ # create a model using keras sequential\n",
        "  tf.keras.layers.Rescaling(1./255),\n",
        "  tf.keras.layers.Conv2D(32, 3, activation='relu', input_shape = (224,224,3)),\n",
        "  tf.keras.layers.MaxPooling2D(),\n",
        "  tf.keras.layers.Conv2D(32, 3, activation='relu'),\n",
        "  tf.keras.layers.MaxPooling2D(),\n",
        "  tf.keras.layers.Conv2D(32, 3, activation='relu'),\n",
        "  tf.keras.layers.MaxPooling2D(),\n",
        "  tf.keras.layers.Flatten(),\n",
        "  tf.keras.layers.Dense(128, activation='relu'),\n",
        "  tf.keras.layers.Dense(4, activation = 'softmax')\n",
        "])"
      ],
      "metadata": {
        "id": "e10brqqNWwxA"
      },
      "execution_count": null,
      "outputs": []
    },
    {
      "cell_type": "code",
      "source": [
        "# compiling the model using the adam optimiser\n",
        "model.compile(\n",
        "  optimizer='adam',\n",
        "  loss='categorical_crossentropy',\n",
        "  metrics=['accuracy'])"
      ],
      "metadata": {
        "id": "z1Bv73kdWzJh"
      },
      "execution_count": null,
      "outputs": []
    },
    {
      "cell_type": "code",
      "source": [
        "# Training the model over 10 epochs using the training data\n",
        "history = model.fit(\n",
        "  ds_train_,\n",
        "  validation_data=ds_valid_,\n",
        "  epochs=10\n",
        ")"
      ],
      "metadata": {
        "id": "1h9JwzedW2LC"
      },
      "execution_count": null,
      "outputs": []
    },
    {
      "cell_type": "code",
      "source": [
        "history_frame = pd.DataFrame(history.history)\n",
        "history_frame.loc[:, ['loss', 'val_loss']].plot()\n",
        "history_frame.loc[:, ['accuracy', 'val_accuracy']].plot();"
      ],
      "metadata": {
        "id": "iyqDyZsxYU84"
      },
      "execution_count": null,
      "outputs": []
    },
    {
      "cell_type": "markdown",
      "source": [
        "This initial model after 5 epochs achieves a validation accuracy of 0.90 with a validation loss of 0.31. After these 5 epochs the validation loss starts to increase and the validation accuracy starts to increase suggesting that the model is overfitting. \n",
        "\n",
        "These initial results appear promising as the model required minimal training and had reasonable results."
      ],
      "metadata": {
        "id": "OOnCYTu1jEYg"
      }
    },
    {
      "cell_type": "markdown",
      "source": [
        "### 2.3 Pretrained base selection"
      ],
      "metadata": {
        "id": "W8ECvkM2qCAE"
      }
    },
    {
      "cell_type": "markdown",
      "source": [
        "Three different pretrained bases were used to perform feature extraction as it can be a relatively fast way in improve the accuracy of a model (Brodzicki et al., 2020). In order to ensure that the weights that have already been learned in training were retained all layers of the pretrained based were set to be non-trainable. The pretrained bases were attached to a simple head and then trained using the training data over 10 epochs to measure which provided the best performance."
      ],
      "metadata": {
        "id": "TAmGikB_qG69"
      }
    },
    {
      "cell_type": "code",
      "source": [
        "# load model\n",
        "VGG = VGG16(include_top=False, weights='imagenet', input_shape = (224,224,3))\n",
        "VGG.trainable = False # set to non-trainable"
      ],
      "metadata": {
        "id": "z2i-k2WHqePW"
      },
      "execution_count": null,
      "outputs": []
    },
    {
      "cell_type": "code",
      "source": [
        "# load model\n",
        "inception = InceptionV3(include_top = False, input_shape = (224,224,3) )\n",
        "\n",
        "inception.trainable = False# set to non-trainable\n"
      ],
      "metadata": {
        "id": "MPYSu-mz0z7O"
      },
      "execution_count": null,
      "outputs": []
    },
    {
      "cell_type": "code",
      "source": [
        "# load model\n",
        "efficientnet = EfficientNetB3(include_top = False, weights='imagenet',input_shape = (224,224,3))\n",
        "\n",
        "efficientnet.trainable = False# set to non-trainable"
      ],
      "metadata": {
        "id": "xKhdQcIT1NOY"
      },
      "execution_count": null,
      "outputs": []
    },
    {
      "cell_type": "code",
      "source": [
        "def make_model(data = True, graph = True, pretrained_base = inception, epoch = 10):\n",
        "  \"\"\"\n",
        "  Function to train a compiled model incorporating a pretrained_base and a \n",
        "  small head. It is compiled using the adam optimiser.\n",
        "\n",
        "  data: bool - If the history information should be printed, default is true\n",
        "  graph: bool - If the val_accuracy and val_loss graphs should be printed,\n",
        "  default is True\n",
        "  pretrained_base: str - Can be set to any pretrained base, defaults to Inception V3\n",
        "  epoch: int - number of epochs for the model to run for\n",
        "\n",
        "  \"\"\"\n",
        "\n",
        "  pretrainedbase = pretrained_base # use pretrained base as specified in the function call\n",
        "  \n",
        "  model = keras.Sequential([\n",
        "    tf.keras.layers.Rescaling(1./255), # normalising the data \n",
        "    pretrainedbase, # using the pretrained base\n",
        "    layers.Flatten(),\n",
        "    # simple head for model\n",
        "    layers.Dense(128, activation='relu'),\n",
        "    layers.Dense(4, activation='softmax'),\n",
        "  ])\n",
        "  # compliling the model using adam optimiser\n",
        "  model.compile(\n",
        "    optimizer='adam',\n",
        "    loss='categorical_crossentropy',\n",
        "    metrics=['accuracy'],\n",
        "  )\n",
        "# training the model over the number of epochs specified in function call\n",
        "  history = model.fit(\n",
        "    ds_train_,\n",
        "    validation_data=ds_valid_,\n",
        "    epochs=epoch,\n",
        "    verbose = 0\n",
        "  )\n",
        "  history_frame = pd.DataFrame(history.history)\n",
        "  \n",
        "# if requested in function call printing results\n",
        "  if data == True:\n",
        "    print(history_frame)\n",
        "\n",
        "# if requested in function call visualsing loss and accuracy\n",
        "  if graph == True:\n",
        "    history_frame.loc[:, ['loss', 'val_loss']].plot()\n",
        "    history_frame.loc[:, ['accuracy', 'val_accuracy']].plot();\n",
        "\n",
        "  return history"
      ],
      "metadata": {
        "id": "ZkTE1FF9qhBE"
      },
      "execution_count": null,
      "outputs": []
    },
    {
      "cell_type": "code",
      "source": [
        "# making model with VGG base\n",
        "VGG_history = make_model(pretrained_base = VGG)"
      ],
      "metadata": {
        "id": "zhkOgjbFdbEd"
      },
      "execution_count": null,
      "outputs": []
    },
    {
      "cell_type": "code",
      "source": [
        "#making model with inception base\n",
        "inception_history = make_model(pretrained_base = inception)"
      ],
      "metadata": {
        "id": "BTJwi3xreFul"
      },
      "execution_count": null,
      "outputs": []
    },
    {
      "cell_type": "code",
      "source": [
        "# making model with efficientnet base\n",
        "efficientnet_history = make_model(pretrained_base = efficientnet)"
      ],
      "metadata": {
        "id": "nO8DoF5VeRQx"
      },
      "execution_count": null,
      "outputs": []
    },
    {
      "cell_type": "markdown",
      "source": [
        "The models used as the pretrained base were EfficientNetB3, Inception V3 and the VGG16. The IncpetionV3 model had the best validation accuracy and so was selected to be used in all later models. The VGG16 model had equivalent performance to my basic model over this low number of epochs but didn't appear to be overfit so may still have improved its performance. Surprisingly the EfficientNetB3 didn't come close the to accuracy of the baseline model."
      ],
      "metadata": {
        "id": "mgg0R8Q3FEqd"
      }
    },
    {
      "cell_type": "markdown",
      "source": [
        " . | Val_loss  | Val_accuracy | Epoch \n",
        "-------------------|------------------|-------------------|---------\n",
        "EfficientNetB3    | 1.17 | 0.53  |8\n",
        "InceptionV3     | 0.38 | 0.92  | 10\n",
        "VGG16     | 0.37 | 0.89 | 8\n"
      ],
      "metadata": {
        "id": "IdHZbVtIEb_b"
      }
    },
    {
      "cell_type": "markdown",
      "source": [
        "### 2.4 Batch size\n",
        "\n",
        "All previous models have been tested using a batch size of 32. In order to fine tune this hyperparameter a grid search was performed with a batch size of 2, 4, 8, 16, 32, 64, 128, 256, 512 and 1024.\n",
        "\n",
        "Small batch sizes have been recommended by Wilson & Martinez (2003) for their regularisation effect but Smith (2018) recommends a larger batch size to maximise test performance while minimising the computational time. Larger batch sizes over the same number of epochs as a smaller batch size require less time to run and so less compuational time but they may exceed the computational power of the hardware.\n",
        "\n",
        "The make_model() function created earlier was used to allow for repeated models to be created and trained to measure the validation accurracy and loss as well as the time taken to run 10 epochs for varying batch sizes\n"
      ],
      "metadata": {
        "id": "KYuXO8HiGpGt"
      }
    },
    {
      "cell_type": "code",
      "source": [
        "batches = [2,4,8,16,32,64,128,256,512,1024] # Set batch sizes to be tested\n",
        "val_loss = {} # create empty dictionary to save val_loss to\n",
        "val_accuracy = {} # create empty dictionary to save val_accuracy to\n",
        "times = {} # create empty dictionary to save time taken to run to\n",
        "\n",
        "for bs in batches:\n",
        "  start = time.time() # start timer\n",
        "  print(bs)\n",
        "  ds_train_, ds_test_, ds_valid_ = data_size(batch_size = bs) # Create datasets in correct batch size\n",
        "  history = make_model(False, False) # train model\n",
        "  end = time.time() # stop timer\n",
        "  val_accuracy[bs] = round(max(history.history['val_accuracy']),3) # Save best val_accuracy\n",
        "  val_loss[bs]= round(min(history.history['val_loss']),3) # save best val_loss\n",
        "  times[bs] = round(end-start) # save time taken to train model \n"
      ],
      "metadata": {
        "id": "k8X9Mu6uHKUB"
      },
      "execution_count": null,
      "outputs": []
    },
    {
      "cell_type": "code",
      "source": [
        "# Plot val_accuracy \n",
        "\n",
        "names = [str(i) for i in (list(val_accuracy.keys()))] # create vector of batch size tested\n",
        "values = list(val_accuracy.values()) # create vector of val_accuracy values\n",
        "\n",
        "plt.plot( names, values) # create plot of val_accuracy\n",
        "plt.title('Val_accuracy')\n",
        "plt.show()\n",
        "\n",
        "# Plot val_loss\n",
        "\n",
        "names = [str(i) for i in (list(val_loss.keys()))] # create vector of batch size tested\n",
        "values = list(val_loss.values()) # create vector of val_loss values\n",
        "\n",
        "plt.plot( names, values) # create plot\n",
        "plt.title('Val_loss')\n",
        "plt.show()\n",
        "\n",
        "# Plot Time taken\n",
        "names = [str(i) for i in (list(times.keys()))] #  create vector of batch size tested\n",
        "values = list(times.values()) # create vector of time values\n",
        "\n",
        "plt.plot( names, values) # Create plot\n",
        "plt.title('Time')\n",
        "plt.show()"
      ],
      "metadata": {
        "id": "SYbedGLyfWC9"
      },
      "execution_count": null,
      "outputs": []
    },
    {
      "cell_type": "markdown",
      "source": [
        "A batch size of 128 was selected for inclusion in the final model using this data as it had the joint highest validation accuracy, the 3rd lowest validation loss and the shortest time. A new model was created using this batch size over 10 epochs to create a new baseline."
      ],
      "metadata": {
        "id": "zK1946msScE8"
      }
    },
    {
      "cell_type": "code",
      "source": [
        "# view validation accuracy for different batch sizes\n",
        "val_accuracy"
      ],
      "metadata": {
        "id": "9Cz-jVcZsLZt"
      },
      "execution_count": null,
      "outputs": []
    },
    {
      "cell_type": "code",
      "source": [
        "# view validation loss for different batch sizes\n",
        "val_loss"
      ],
      "metadata": {
        "id": "q38yh8vBsFJh"
      },
      "execution_count": null,
      "outputs": []
    },
    {
      "cell_type": "code",
      "source": [
        "# view time taken for different batch sizes\n",
        "times"
      ],
      "metadata": {
        "id": "HnsC7ElhsC6K"
      },
      "execution_count": null,
      "outputs": []
    },
    {
      "cell_type": "code",
      "source": [
        "## model for future comparison\n",
        "get_data()\n",
        "ds_train_, ds_test_, ds_valid_ = data_size(batch_size = 128) # using the optimum batch size\n",
        "history = make_model()"
      ],
      "metadata": {
        "id": "vJ3WPkm8sXH2"
      },
      "execution_count": null,
      "outputs": []
    },
    {
      "cell_type": "markdown",
      "source": [
        "This model has a maximum validation accuracy of 0.929 and a validation loss 0.282. "
      ],
      "metadata": {
        "id": "58CDpP_CE1_k"
      }
    },
    {
      "cell_type": "markdown",
      "source": [
        "### 2.5 Data Augmentation\n",
        "\n",
        "Data augmentation involves adding random transformations to the data before it is input into the model. This step helps to avoid overfitting to the data (Mikołajczyk and Grochowski, 2018). and is especially useful with smaller datasets such as this one. The augmentations included were RandomFlip (both horizonal and vertical), RandomZoon, RandomRotation and RandomTranslation."
      ],
      "metadata": {
        "id": "yslLuIDc-vSn"
      }
    },
    {
      "cell_type": "code",
      "source": [
        "# create a data augmentation layer to include in models\n",
        "data_augmentation = keras.Sequential([\n",
        "        layers.RandomFlip(\"horizontal\"),\n",
        "        layers.RandomFlip(\"vertical\"),\n",
        "        layers.RandomZoom(0.2),\n",
        "        layers.RandomRotation(factor = 0.2),\n",
        "        layers.RandomTranslation(height_factor=0.1, width_factor=0.1),\n",
        "    ])"
      ],
      "metadata": {
        "id": "JKvYZUg4_De0"
      },
      "execution_count": null,
      "outputs": []
    },
    {
      "cell_type": "code",
      "source": [
        "#Updating the make model function to include the option to have data augmentation\n",
        "\n",
        "def make_model(data = True, graph = True, pretrained_base = inception, epoch = 10, augmentation = False):\n",
        "  \"\"\"\n",
        "  Function to train a compiled model incorporating a pretrained_base and a \n",
        "  small head. It is compiled using the adam optimiser.\n",
        "\n",
        "  data: bool - If the history information should be printed, default is true\n",
        "  graph: bool - If the val_accuracy and val_loss graphs should be printed,\n",
        "  default is True\n",
        "  pretrained_base: str - Can be set to any pretrained base, defaults to Inception V3\n",
        "  epoch: int - number of epochs for the model to run for\n",
        "\n",
        "  \"\"\"\n",
        "\n",
        "  pretrainedbase = pretrained_base # selecting pretrained base from function call\n",
        "\n",
        "  if augmentation == False: # If augmentation is false then don't include it in model\n",
        "    model = keras.Sequential([\n",
        "      tf.keras.layers.Rescaling(1./255),\n",
        "      pretrainedbase,\n",
        "      layers.Flatten(),\n",
        "      layers.Dense(128, activation='relu'),\n",
        "      layers.Dense(4, activation='softmax'),\n",
        "    ])\n",
        "\n",
        "  elif augmentation == True: # if augmentation is True then include it in the model\n",
        "    model = keras.Sequential([\n",
        "    tf.keras.layers.Rescaling(1./255),\n",
        "    data_augmentation,\n",
        "    pretrained_base,\n",
        "    layers.Flatten(),\n",
        "    layers.Dense(128, activation='relu'),\n",
        "    layers.Dense(4, activation='softmax'),\n",
        "  ])\n",
        "    \n",
        "  else: # if anything else then return error message but still run model using defualt False\n",
        "    print(\"Invalid arguement for augmentation. \\n 'True' or 'False' are only valid values\")\n",
        "\n",
        "   # compile model \n",
        "  model.compile(\n",
        "    optimizer='adam',\n",
        "    loss='categorical_crossentropy',\n",
        "    metrics=['accuracy'],\n",
        "  )\n",
        "# training the model over the number of epochs specified in function call\n",
        "  history = model.fit(\n",
        "    ds_train_,\n",
        "    validation_data=ds_valid_,\n",
        "    epochs=epoch,\n",
        "    verbose = 0\n",
        "  )\n",
        "  history_frame = pd.DataFrame(history.history)\n",
        "\n",
        "  # if requested in function call printing results\n",
        "  if data == True:\n",
        "    print(history_frame)\n",
        "\n",
        "   # if requested in function call visualsing loss and accuracy \n",
        "  if graph == True:\n",
        "    history_frame.loc[:, ['loss', 'val_loss']].plot()\n",
        "    history_frame.loc[:, ['accuracy', 'val_accuracy']].plot();\n",
        "\n",
        "  return history"
      ],
      "metadata": {
        "id": "6Sb8rCBw_PsZ"
      },
      "execution_count": null,
      "outputs": []
    },
    {
      "cell_type": "code",
      "source": [
        "#download and prepare data\n",
        "get_data()\n",
        "ds_train_, ds_test_, ds_valid_ = data_size()\n",
        "# train model with augmentation\n",
        "aug_history = make_model(augmentation = True)"
      ],
      "metadata": {
        "id": "lV3IYAD3Fyc7"
      },
      "execution_count": null,
      "outputs": []
    },
    {
      "cell_type": "markdown",
      "source": [
        "Validation accuracy and validation loss was slighly worse with the augmented data but the loss and accuracy didn't appear to plateau so further epochs may have continued to improve performance. For this reason augmentation was included in the final model."
      ],
      "metadata": {
        "id": "s1IAebIyIPR-"
      }
    },
    {
      "cell_type": "markdown",
      "source": [
        "### 2.6 Head shape\n",
        "\n",
        "The model head so far has been\n",
        "\n",
        "```\n",
        "  layers.Flatten(),\n",
        "  layers.Dense(128, activation='relu'),\n",
        "  layers.Dense(4, activation='softmax'),\n",
        "```\n",
        "In order to determine if an alternate head shape could improve model performance wider and deeper heads were used to train the model.\n"
      ],
      "metadata": {
        "id": "lgfiQNLAJgF1"
      }
    },
    {
      "cell_type": "code",
      "source": [
        "def deep_model():\n",
        "  # create model with aumentation and inception pretrained base with deep head\n",
        "  model = keras.Sequential([\n",
        "    tf.keras.layers.Rescaling(1./255),\n",
        "    data_augmentation,\n",
        "    inception,\n",
        "    layers.Flatten(),\n",
        "    layers.Dense(128, activation='relu'),\n",
        "    layers.Dense(128, activation='relu'),\n",
        "    layers.Dense(128, activation='relu'),\n",
        "    layers.Dense(128, activation='relu'),\n",
        "    layers.Dense(4, activation='softmax'),\n",
        "  ])\n",
        "  # compile model\n",
        "  model.compile(\n",
        "    optimizer='adam',\n",
        "    loss='categorical_crossentropy',\n",
        "    metrics=['accuracy'],\n",
        "  )\n",
        "# train model over 10 epochs\n",
        "  history = model.fit(\n",
        "    ds_train_,\n",
        "    validation_data=ds_valid_,\n",
        "    epochs=10,\n",
        "    verbose = 0\n",
        "  )\n",
        "  # Display results\n",
        "  history_frame = pd.DataFrame(history.history)\n",
        "  print(history_frame)\n",
        "  history_frame.loc[:, ['loss', 'val_loss']].plot()\n",
        "  history_frame.loc[:, ['accuracy', 'val_accuracy']].plot();\n"
      ],
      "metadata": {
        "id": "S0aVrm_CKM_Y"
      },
      "execution_count": null,
      "outputs": []
    },
    {
      "cell_type": "code",
      "source": [
        "deep_model()"
      ],
      "metadata": {
        "id": "MMlrDa-SKgxS"
      },
      "execution_count": null,
      "outputs": []
    },
    {
      "cell_type": "code",
      "source": [
        "def wide_model():\n",
        "  # create model with aumentation and inception pretrained base with wide head\n",
        "  model = keras.Sequential([\n",
        "    tf.keras.layers.Rescaling(1./255),\n",
        "    data_augmentation,\n",
        "    inception,\n",
        "    layers.Flatten(),\n",
        "    layers.Dense(1024, activation='relu'),\n",
        "    layers.Dense(1024, activation='relu'),\n",
        "    layers.Dense(4, activation='softmax'),\n",
        "  ])\n",
        "   # compile model\n",
        "  model.compile(\n",
        "    optimizer='adam',\n",
        "    loss='categorical_crossentropy',\n",
        "    metrics=['accuracy'],\n",
        "  )\n",
        "# train model over 10 epochs\n",
        "  history = model.fit(\n",
        "    ds_train_,\n",
        "    validation_data=ds_valid_,\n",
        "    epochs=10,\n",
        "    verbose = 0\n",
        "  )\n",
        "    # Display reults\n",
        "  history_frame = pd.DataFrame(history.history)\n",
        "  print(history_frame)\n",
        "  history_frame.loc[:, ['loss', 'val_loss']].plot()\n",
        "  history_frame.loc[:, ['accuracy', 'val_accuracy']].plot();\n"
      ],
      "metadata": {
        "id": "Dty0SDwyKlIz"
      },
      "execution_count": null,
      "outputs": []
    },
    {
      "cell_type": "code",
      "source": [
        "# Train wide model\n",
        "wide_model()"
      ],
      "metadata": {
        "id": "rK9wTvQ-Kwb3"
      },
      "execution_count": null,
      "outputs": []
    },
    {
      "cell_type": "code",
      "source": [
        "def wide_deep_model():\n",
        "  # create model with aumentation and inception pretrained base with wide and deep head\n",
        "  model = keras.Sequential([\n",
        "    tf.keras.layers.Rescaling(1./255),\n",
        "    data_augmentation,\n",
        "    inception,\n",
        "    layers.Flatten(),\n",
        "    layers.Dense(1024, activation='relu'),\n",
        "    layers.Dense(1024, activation='relu'),\n",
        "    layers.Dense(1024, activation='relu'),\n",
        "    layers.Dense(1024, activation='relu'),\n",
        "    layers.Dense(4, activation='softmax'),\n",
        "  ])\n",
        "  # compile model\n",
        "  model.compile(\n",
        "    optimizer='adam',\n",
        "    loss='categorical_crossentropy',\n",
        "    metrics=['accuracy'],\n",
        "  )\n",
        "# train model over 10 epochs\n",
        "  history = model.fit(\n",
        "    ds_train_,\n",
        "    validation_data=ds_valid_,\n",
        "    epochs=10,\n",
        "    verbose = 0\n",
        "  )\n",
        "  # Display results\n",
        "  history_frame = pd.DataFrame(history.history)\n",
        "  print(history_frame)\n",
        "  history_frame.loc[:, ['loss', 'val_loss']].plot()\n",
        "  history_frame.loc[:, ['accuracy', 'val_accuracy']].plot();\n"
      ],
      "metadata": {
        "id": "VF31CpBAKzW4"
      },
      "execution_count": null,
      "outputs": []
    },
    {
      "cell_type": "code",
      "source": [
        "# train wide and deep model\n",
        "wide_deep_model()"
      ],
      "metadata": {
        "id": "yd-Q3JoNK5PD"
      },
      "execution_count": null,
      "outputs": []
    },
    {
      "cell_type": "code",
      "source": [
        "def wide_deep_dropout_model():\n",
        "    # create model with aumentation and inception pretrained base with deep head and dropout\n",
        "  model = keras.Sequential([\n",
        "    tf.keras.layers.Rescaling(1./255),\n",
        "    data_augmentation,\n",
        "    inception,\n",
        "    layers.Flatten(),\n",
        "    layers.Dense(1024, activation='relu'),\n",
        "    layers.Dropout(0.3),\n",
        "    layers.Dense(1024, activation='relu'),\n",
        "    layers.Dropout(0.3),\n",
        "    layers.Dense(1024, activation='relu'),\n",
        "    layers.Dropout(0.3),\n",
        "    layers.Dense(1024, activation='relu'),\n",
        "    layers.Dense(4, activation='softmax'),\n",
        "  ])\n",
        "  # compile model\n",
        "  model.compile(\n",
        "    optimizer='adam',\n",
        "    loss='categorical_crossentropy',\n",
        "    metrics=['accuracy'],\n",
        "  )\n",
        "# train model over 10 epochs\n",
        "\n",
        "  history = model.fit(\n",
        "    ds_train_,\n",
        "    validation_data=ds_valid_,\n",
        "    epochs=10,\n",
        "    verbose = 0\n",
        "  )\n",
        "    # Display results\n",
        "\n",
        "  history_frame = pd.DataFrame(history.history)\n",
        "  print(history_frame)\n",
        "  history_frame.loc[:, ['loss', 'val_loss']].plot()\n",
        "  history_frame.loc[:, ['accuracy', 'val_accuracy']].plot();"
      ],
      "metadata": {
        "id": "THyUaOVZQlui"
      },
      "execution_count": null,
      "outputs": []
    },
    {
      "cell_type": "code",
      "source": [
        "# train model with wide and deep head and dropout\n",
        "wide_deep_dropout_model()"
      ],
      "metadata": {
        "id": "3i9YE3HURESu"
      },
      "execution_count": null,
      "outputs": []
    },
    {
      "cell_type": "code",
      "source": [
        "# testing original head with dropout.\n",
        "def dropout_model():\n",
        "  model = keras.Sequential([\n",
        "    tf.keras.layers.Rescaling(1./255),\n",
        "    data_augmentation,\n",
        "    inception,\n",
        "    layers.Flatten(),\n",
        "    layers.Dense(128, activation='relu'),\n",
        "    layers.Dropout(0.3),\n",
        "    layers.Dense(4, activation='softmax'),\n",
        "  ])\n",
        "   # compile model\n",
        "  model.compile(\n",
        "    optimizer='adam',\n",
        "    loss='categorical_crossentropy',\n",
        "    metrics=['accuracy'],\n",
        "  )\n",
        "# train model over 10 epochs\n",
        "\n",
        "  history = model.fit(\n",
        "    ds_train_,\n",
        "    validation_data=ds_valid_,\n",
        "    epochs=10,\n",
        "    verbose = 1\n",
        "  )\n",
        "    # Display results\n",
        "\n",
        "  history_frame = pd.DataFrame(history.history)\n",
        "  print(history_frame)\n",
        "  history_frame.loc[:, ['loss', 'val_loss']].plot()\n",
        "  history_frame.loc[:, ['accuracy', 'val_accuracy']].plot();"
      ],
      "metadata": {
        "id": "h3cIwsFaUzJU"
      },
      "execution_count": null,
      "outputs": []
    },
    {
      "cell_type": "code",
      "source": [
        "# train dropout model\n",
        "dropout_model()"
      ],
      "metadata": {
        "id": "Vqj7PzAaYimi"
      },
      "execution_count": null,
      "outputs": []
    },
    {
      "cell_type": "markdown",
      "source": [
        " . | Val_loss  | Val_accuracy \n",
        "-------------------|------------------|------------------\n",
        "Original head   | 0.293 | 0.899 \n",
        "Original head with dropout | 0.295 | 0.896\n",
        "Wide Head    | 0.259 | 0.904  \n",
        "Deep Head    | 0.263 | 0.912 \n",
        "Wide & Deep Head | 0.286  | 0.907 \n",
        "Wide & Deep with Dropout | 0.276 | 0.912 \n",
        "\n",
        "\n",
        "All of the alternative heads performed better than the original simple head. The deep head shown below had the best performance as measured by Validation accuracy and so it was selected for use in the final model.\n",
        "\n",
        "\n",
        "\n",
        "```\n",
        "model = keras.Sequential([\n",
        "    tf.keras.layers.Rescaling(1./255),\n",
        "    data_augmentation,\n",
        "    inception,\n",
        "    layers.Flatten(),\n",
        "    layers.Dense(128, activation='relu'),\n",
        "    layers.Dense(128, activation='relu'),\n",
        "    layers.Dense(128, activation='relu'),\n",
        "    layers.Dense(128, activation='relu'),\n",
        "    layers.Dense(4, activation='softmax'),\n",
        "  ])\n",
        "```\n",
        "\n",
        "\n"
      ],
      "metadata": {
        "id": "NsWRqY7GTDQ8"
      }
    },
    {
      "cell_type": "markdown",
      "source": [
        "### 2.7 Callbacks\n",
        "\n",
        "An early stopping callback was included in the final model so as to reduce the potential for overfitting. It does this by monitoring an output, in this case validation accuracy, and stopping the training once the model stops improving.\n",
        "\n",
        "A model saving checkpoint is also included so as to save the best performing model created during training.\n",
        "\n",
        "The reduce learning rate on plateau callback slows the learning rate once improvement in validation accuracy starts to slow. This may lead to not escaping a local minimum but it may also allow it to converge on a minimum without jumping back and forth over it."
      ],
      "metadata": {
        "id": "RqdW_C0WNo43"
      }
    },
    {
      "cell_type": "code",
      "source": [
        "checkpoint_filepath = '/content/Models' # set location to save model\n",
        "callback = [ # create a list of callbacks to include in model\n",
        "    callbacks.EarlyStopping( # include early stopping to reduce overfitting\n",
        "    min_delta=0.001, # minimium amount of change to count as an improvement\n",
        "    patience=20, # how many epochs to wait before stopping\n",
        "    restore_best_weights=True,\n",
        "    monitor = 'val_accuracy',\n",
        "    verbose = 1\n",
        "),\n",
        "# include checkpoint to save best model as training progresses\n",
        "callbacks.ModelCheckpoint(filepath = checkpoint_filepath, monitor='val_accuracy', verbose=1, save_best_only=True, mode='max'),\n",
        "# include reduce learning rate on Plateau\n",
        "callbacks.ReduceLROnPlateau(monitor = 'val_accuracy', verbose = 1, factor = 0.5),\n",
        "]"
      ],
      "metadata": {
        "id": "9LS8d1ynOErs"
      },
      "execution_count": null,
      "outputs": []
    },
    {
      "cell_type": "code",
      "source": [
        "# crate a function to create the final model\n",
        "def final_model(data = True, graph = True, epoch = 200, verbose = 1, fine_tune = 0 ):\n",
        "  \"\"\"\n",
        "  Function to train a compiled model incorporating a pretrained_base and a \n",
        "  head. It is compiled using the adam optimiser.\n",
        "\n",
        "  data: bool - If the history information should be printed, default is true\n",
        "  graph: bool - If the val_accuracy and val_loss graphs should be printed,\n",
        "  default is True\n",
        "  epoch: int - number of epochs for the model to run for\n",
        "  verbose: int - 1 for show progress, 0 for don't show progress\n",
        "  fine_tune: int - layers of the convolutional base to be trainable\n",
        "\n",
        "  \"\"\"\n",
        "  tf.get_logger().setLevel('ERROR') # reduce error messages shown\n",
        "\n",
        "  # Pretrained convolutional layers are loaded using the Imagenet weights.\n",
        "    # Include_top is set to False, in order to exclude the model's fully-connected layers.\n",
        "  conv_base = InceptionV3(include_top = False, input_shape = (224,224,3) )\n",
        "\n",
        "    # Defines how many layers to freeze during training.\n",
        "    # Layers in the convolutional base are switched from trainable to non-trainable\n",
        "    # depending on the size of the fine-tuning parameter.\n",
        "\n",
        "  if fine_tune > 0:\n",
        "        for layer in conv_base.layers[:-fine_tune]:\n",
        "            layer.trainable = False\n",
        "  else:\n",
        "        for layer in conv_base.layers:\n",
        "            layer.trainable = False\n",
        "\n",
        "  ## define the model including, augemntation, and trainable base\n",
        "  model = keras.Sequential([\n",
        "    tf.keras.layers.Rescaling(1./255),\n",
        "    data_augmentation,\n",
        "    inception,\n",
        "    layers.Flatten(),\n",
        "    layers.Dense(128, activation='relu'),\n",
        "    layers.Dense(128, activation='relu'),\n",
        "    layers.Dense(128, activation='relu'),\n",
        "    layers.Dense(128, activation='relu'),\n",
        "    layers.Dense(4, activation='softmax'),\n",
        "  ])\n",
        "  # compile the model\n",
        "  model.compile(\n",
        "    optimizer='adam',\n",
        "    loss='categorical_crossentropy',\n",
        "    metrics=['accuracy'],\n",
        "  )\n",
        "  #train the model\n",
        "  history = model.fit(\n",
        "    ds_train_,\n",
        "    validation_data=ds_valid_,\n",
        "    callbacks = [callback],\n",
        "    epochs=epoch,\n",
        "    verbose = verbose)\n",
        "  \n",
        "  # show results if required\n",
        "\n",
        "  history_frame = pd.DataFrame(history.history)\n",
        "  if data == True:\n",
        "    print(history_frame)\n",
        "  if graph == True:\n",
        "    history_frame.loc[1:, ['loss', 'val_loss']].plot()\n",
        "    history_frame.loc[1:, ['accuracy', 'val_accuracy']].plot();\n",
        "\n",
        "  return history\n",
        "\n"
      ],
      "metadata": {
        "id": "NfmcDbFuZfp8"
      },
      "execution_count": null,
      "outputs": []
    },
    {
      "cell_type": "markdown",
      "source": [
        "### 2.8 Fine tuning the model\n"
      ],
      "metadata": {
        "id": "WzaCJS6rOnI6"
      }
    },
    {
      "cell_type": "code",
      "source": [
        "get_data()\n",
        "ds_train_, ds_test_, ds_valid_ = data_size()"
      ],
      "metadata": {
        "id": "so57ESta0ecJ"
      },
      "execution_count": null,
      "outputs": []
    },
    {
      "cell_type": "code",
      "source": [
        "history1 = final_model(fine_tune = 0, data = False, verbose = False)\n",
        "print(f\"Best Validation accuracy: {round(max(history1.history['val_accuracy']),3)}\") #print best validation accuracy\n",
        "print(f\"Best Validation loss: {round(min(history1.history['val_loss']),3)}\")  # print best validation loss\n",
        "history_frame = pd.DataFrame(history1.history)\n",
        "history_frame.to_csv(('fine_tune0.csv'))\n",
        "files.download('fine_tune0.csv')\n"
      ],
      "metadata": {
        "id": "wOGkVNqhzNy5"
      },
      "execution_count": null,
      "outputs": []
    },
    {
      "cell_type": "code",
      "source": [
        "history2 = final_model(fine_tune = 20, data = False, verbose = False)\n",
        "print(f\"Best Validation accuracy: {round(max(history2.history['val_accuracy']),3)}\") #print best validation accuracy\n",
        "print(f\"Best Validation loss: {round(min(history2.history['val_loss']),3)}\")  # print best validation loss\n",
        "history_frame = pd.DataFrame(history2.history)\n",
        "history_frame.to_csv(('fine_tune20.csv'))\n",
        "files.download('fine_tune20.csv')"
      ],
      "metadata": {
        "id": "nXcdWJ1CJ0kj"
      },
      "execution_count": null,
      "outputs": []
    },
    {
      "cell_type": "code",
      "source": [
        "history3 = final_model(fine_tune = 40, data = False, verbose = True)\n",
        "print(f\"Best Validation accuracy: {round(max(history3.history['val_accuracy']),3)}\") #print best validation accuracy\n",
        "print(f\"Best Validation loss: {round(min(history3.history['val_loss']),3)}\")  # print best validation loss\n",
        "history_frame = pd.DataFrame(history3.history)\n",
        "history_frame.to_csv(('fine_tune40.csv'))\n",
        "files.download('fine_tune40.csv')"
      ],
      "metadata": {
        "id": "MF5MH0UPFMx5"
      },
      "execution_count": null,
      "outputs": []
    },
    {
      "cell_type": "code",
      "source": [
        "history4 = final_model(fine_tune = 60, data = False, verbose = True)\n",
        "print(f\"Best Validation accuracy: {round(max(history4.history['val_accuracy']),3)}\") #print best validation accuracy\n",
        "print(f\"Best Validation loss: {round(min(history4.history['val_loss']),3)}\")  # print best validation loss\n",
        "history_frame = pd.DataFrame(history4.history)\n",
        "history_frame.to_csv(('fine_tune60.csv'))\n",
        "files.download('fine_tune60.csv')"
      ],
      "metadata": {
        "id": "LWa3CBa90YlF"
      },
      "execution_count": null,
      "outputs": []
    },
    {
      "cell_type": "markdown",
      "source": [
        "### 2.9 Equal data sizes\n",
        "\n",
        "It is recognised that ensuring an equal spread of data within each category is important as conventional classifiers have been designed to work with equal data classes and so optimal results are not normally achieved in underrepresented classes (Villoria et al, 2020).\n",
        "\n",
        "In order to attempt to measure the impact uneven data classes in this dataset, all categories were limited to a maximum size of the smallest original category (Newcastle Disease, n= 562) and the model trained on this data.\n"
      ],
      "metadata": {
        "id": "eF-VG91nIjR2"
      }
    },
    {
      "cell_type": "code",
      "source": [
        "def get_even_data():\n",
        "  \"\"\"\n",
        "  Removes any previously downloaded data then downloads 'chicken-disease-1' data from kaggle.\n",
        "  Splits data into seperate folders based on disease, \n",
        "  Removes images so that each folder is only as big as the smallest folder\n",
        "  Then splits data into test, train and validate using a default of 80/10/10\n",
        "    \n",
        "    \"\"\"\n",
        " # remove any previously downloaded data\n",
        "  !rm -rf '/content/Train'\n",
        "  !rm -rf '/content/train_data.csv'\n",
        "  !rm -rf '/content/output'\n",
        "  !rm -rf '/content/chicken-disease-1 .zip'\n",
        "\n",
        "  !kaggle datasets download -d 'allandclive/chicken-disease-1 ' -p /content #download data\n",
        "  !unzip -qq 'chicken-disease-1 .zip' # unzip data\n",
        "  \n",
        "\n",
        "  folder_path = '/content/Train' # Set path where images are\n",
        "\n",
        "# create list of images to go through below\n",
        "  images = [f for f in os.listdir(folder_path) if os.path.isfile(os.path.join(folder_path, f))]\n",
        "\n",
        "  for image in images:\n",
        "    folder_name = image.split('.')[0] # Creates folder based on first part of name\n",
        "\n",
        "    new_path = os.path.join(folder_path, folder_name) # creates new path name\n",
        "    if not os.path.exists(new_path): # checks if path exixts\n",
        "      os.makedirs(new_path)  # if doesn't exists creates it\n",
        "\n",
        "    old_image_path = os.path.join(folder_path, image)\n",
        "    new_image_path = os.path.join(new_path, image)\n",
        "    shutil.move(old_image_path, new_image_path) # moves picture\n",
        "    \n",
        "  # merge all folders with similar contents\n",
        "\n",
        "  mergefolders('/content/Train/pcrcocci', '/content/Train/cocci')\n",
        "  mergefolders('/content/Train/pcrsalmo', '/content/Train/salmo')\n",
        "  mergefolders('/content/Train/pcrncd', '/content/Train/ncd')\n",
        "  mergefolders('/content/Train/pcrhealthy', '/content/Train/healthy')\n",
        "\n",
        "  # remove folders not needed\n",
        "\n",
        "  !rm -rf '/content/Train/pcrsalmo'\n",
        "  !rm -rf '/content/Train/pcrncd'\n",
        "  !rm -rf '/content/Train/pcrhealthy'                    \n",
        "  !rm -rf '/content/Train/pcrcocci'\n",
        "\n",
        "  # Check folder counts\n",
        "  print(\"Initial Folder counts \\n \")\n",
        "  print(f\"cocci {len(os.listdir('/content/Train/cocci'))}\")\n",
        "  print(f\"healthy {len(os.listdir('/content/Train/healthy'))}\")\n",
        "  print(f\"ncd {len(os.listdir('/content/Train/ncd'))}\")\n",
        "  print(f\"salmonella {len(os.listdir('/content/Train/salmo'))}\")\n",
        "\n",
        "  def equal_size(path, length = 562): \n",
        "\n",
        "    ''' Function to remove pictures from folder to equalise data sizes\n",
        "    '''\n",
        "    i = 0 \n",
        "    for pic in os.listdir(path):\n",
        "      if i >= length:\n",
        "        pic_path = os.path.join(path, pic)\n",
        "        os.remove(pic_path)\n",
        "      i += 1\n",
        "      path_name = path.split('/')\n",
        "    print(f\"{path_name[3]} {len(os.listdir(path))}\")\n",
        "  print(\"\")\n",
        "\n",
        "  # show new folder counts\n",
        "\n",
        "  print(\"Equalised folder counts \\n \")  \n",
        "  equal_size('/content/Train/cocci')\n",
        "  equal_size('/content/Train/healthy')\n",
        "  equal_size('/content/Train/ncd')\n",
        "  equal_size('/content/Train/salmo')\n",
        "\n",
        "  print(\"\")\n",
        "  print(\"Split folder counts \\n\")\n",
        "  splitfolders.ratio('Train', output=\"output\", seed=1337, ratio=(.8, 0.1,0.1)) # split the data\n",
        " "
      ],
      "metadata": {
        "id": "7lB8AwNdI-mx"
      },
      "execution_count": null,
      "outputs": []
    },
    {
      "cell_type": "markdown",
      "source": [
        "This even split of data was then used to train a model to compare to the currently best optimised model which has a validation accuracy of 0.939 and a validation loss of 0.165. The model trained using the even category sizes achieved a validation accuracy of 0.9107 and a validation loss of 0.377. As the model performance was so severly affected a decision was made to include all of the original images.\n"
      ],
      "metadata": {
        "id": "mJ8pz9FHJWup"
      }
    },
    {
      "cell_type": "code",
      "source": [
        "get_even_data()\n",
        "ds_train_, ds_test_, ds_valid_ = data_size()\n"
      ],
      "metadata": {
        "id": "wlTnVL_Vqz1J"
      },
      "execution_count": null,
      "outputs": []
    },
    {
      "cell_type": "code",
      "source": [
        "final_model()"
      ],
      "metadata": {
        "id": "vvhF2hewJfYN"
      },
      "execution_count": null,
      "outputs": []
    },
    {
      "cell_type": "markdown",
      "source": [
        "## 3. Results"
      ],
      "metadata": {
        "id": "RTQh3ptAU2wy"
      }
    },
    {
      "cell_type": "markdown",
      "source": [
        " Fine Tuning | Validation Accuracy  | Validation Loss \n",
        "-------------------|------------------|-------------------\n",
        "0     | 0.939 | 0.165  \n",
        "20     | 0.937 | 0.181 \n",
        "40   | 0.937 | 0.175 \n",
        "60   | 0.929 | 0.194 "
      ],
      "metadata": {
        "id": "jtWOzGgt4yP6"
      }
    },
    {
      "cell_type": "markdown",
      "source": [
        "The model trained with no fine tuning achieved the highest vaidation accuracy at 0.939 and the lowest validation loss of 0.165 and so this model was selected as the final model. The training data is shown below and highlights the epoch at which the final model was selected based on a maximum validation accuracy. We can see that after this point both validation loss and validation accuracy start to plateau while training loss and accuracy continue to improve suggesting that we have started overfitting.\n",
        "\n",
        "\n"
      ],
      "metadata": {
        "id": "chYaE5JhfhFo"
      }
    },
    {
      "cell_type": "code",
      "source": [
        "# git clone\n",
        "! git clone https://github.com/joebmitchell/C7082\n",
        "\n",
        "# read in training data from final model\n",
        "data = pd.read_csv(\"/content/C7082/Results/fine_tune0.csv\")\n",
        "\n",
        "plt.figure(facecolor='white') # set bacground colour to white\n",
        "plt.plot(data.loc[1:,['accuracy', 'val_accuracy']]) # plot accuracy and val accuracy figures, excluding 1st epoch\n",
        "plt.legend(['accuracy', 'validation accuracy'], loc =\"upper left\") # add legend\n",
        "# add labels and title\n",
        "plt.xlabel('Epoch')\n",
        "plt.ylabel('Accuracy')\n",
        "plt.title('Final Model Accuracy')\n",
        "# add line showing final model selection\n",
        "plt.axvline(data['val_accuracy'].idxmax(), color = 'red')\n",
        "plt.text(66, 0.88, 'Final Model', ha='left', va='center', color = 'red')"
      ],
      "metadata": {
        "id": "sdha1DReC-j_"
      },
      "execution_count": null,
      "outputs": []
    },
    {
      "cell_type": "code",
      "source": [
        "# read in training data from final model\n",
        "data = pd.read_csv(\"/content/C7082/Results/fine_tune0.csv\")\n",
        "\n",
        "plt.figure(facecolor='white') # set background colour to white\n",
        "plt.plot(data.loc[1:,['loss', 'val_loss']], label='Inline label') # select loss data to plot, excluding 1st epoch\n",
        "plt.legend([\"loss\", \"validation loss\"], loc =\"bottom left\") # add legend\n",
        "# add labels and title\n",
        "plt.xlabel('Epoch')\n",
        "plt.ylabel('Loss')\n",
        "plt.title('Final Model Loss')\n",
        "# add line showing final model selection\n",
        "plt.axvline(data['val_accuracy'].idxmax(), color = 'red')\n",
        "plt.text(66, 0.30, 'Final Model', ha='left', va='center', color = 'red')"
      ],
      "metadata": {
        "id": "BVl1ueBj919z"
      },
      "execution_count": null,
      "outputs": []
    },
    {
      "cell_type": "markdown",
      "source": [
        "![Loss_graph.png](data:image/png;base64,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)\n",
        "\n",
        "![Accuracy_graph.png](data:image/png;base64,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)"
      ],
      "metadata": {
        "id": "69vWCU6sUXnu"
      }
    },
    {
      "cell_type": "markdown",
      "source": [
        "In order to assess its ability to predict the class on unseen data the model was evaluated using the model.evaluate function on the test dataset which showed an accuracy of 0.9407 and a loss of 0.1898. "
      ],
      "metadata": {
        "id": "T4XTLNfHaAD_"
      }
    },
    {
      "cell_type": "markdown",
      "source": [
        "A confusion matrix was created using the models predictions of the test dataset in order to visualise differences between categories in prediction accuracy"
      ],
      "metadata": {
        "id": "CzcQ9ZxUatmU"
      }
    },
    {
      "cell_type": "markdown",
      "source": [
        "![Confusion_matrix.png](data:image/png;base64,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)"
      ],
      "metadata": {
        "id": "dpV7zH9fFreY"
      }
    },
    {
      "cell_type": "code",
      "source": [
        "# Generating final loss/accuracy figures and confusion matrix\n",
        "\n",
        "\n",
        "# download model\n",
        "!wget -O model.zip https://www.dropbox.com/s/t49w8rr9jm5a36d/Models.zip?dl=0\n",
        "\n",
        "# unzip model\n",
        "!unzip /content/model.zip\n",
        "\n",
        "# Load model\n",
        "model = tf.keras.models.load_model('/content/Models')\n",
        "\n",
        "# calculate loss and accuracy of model using test dataset\n",
        "loss, accuracy = model.evaluate(ds_test_)\n",
        "\n",
        "# create predictions of test dataset\n",
        "pred = model.predict(ds_test_)\n",
        "\n",
        "# create vector of maximum probability giving model classification\n",
        "pred_class = np.argmax(pred, axis = 1)\n",
        "\n",
        "# create vector of classes of actual classes\n",
        "y = np.concatenate([y for x, y in ds_test_], axis=0)\n",
        "\n",
        "# create vector of actual class\n",
        "actual_class = np.argmax(y, axis = 1)\n",
        "\n",
        "# Create tuple of class categories\n",
        "classes = ('Coccidiosis', 'Healthy', 'NCD', 'Salmonella')\n",
        "\n",
        "# calculate confusion matrix \n",
        "confm = confusion_matrix(actual_class, pred_class)#, normalize = 'pred', 'all', 'true'\n",
        "df_cm = DataFrame(confm, index=classes, columns=classes)\n",
        "\n",
        "plt.figure(facecolor='white')\n",
        "ax = sn.heatmap(df_cm, cmap='Oranges', annot=True, fmt='g', cbar = False)\n",
        "# add class labels\n",
        "plt.xlabel('Predicted Class')\n",
        "plt.ylabel('Actual Class')\n",
        "plt.title('Confusion Matrix')\n",
        "# Confusion matrix whose i-th row and j-th column entry indicates the number of samples with true label \n",
        "# being i-th class and predicted label being j-th class."
      ],
      "metadata": {
        "id": "wW46_EAPgcXW"
      },
      "execution_count": null,
      "outputs": []
    },
    {
      "cell_type": "markdown",
      "source": [
        "## 4. Discussion\n",
        "\n",
        "A 94% accuracy in diagnosing disease in pictures of chicken faeces has the potential to provide a rapid diagnosis of disease. This would allow swift measures to be put in place to control the disease. As the accuracy of this test isn't perfect it would be sensible to implement this model as a screening test for disease which requires further conformatory testing.\n",
        "\n",
        "The model training process may have yielded better results if a more formal hyperparameter seach method including an element of randomisation was included (Bergstra and Bengio, 2012) instead of the stepwise model hyperparameter determiniation ustilised in the development of this model. \n",
        "\n",
        "Image augmentation use could also have been tested to see which options to include would have yielded the best results. Furthermore to reduce the impact of the uneven data sizes before training the model, the smaller image categories could have been supplemented by using augmentation to generate new images.\n",
        "\n",
        "There are other diseases that can cause changes to faeces in poutry which this model hasn't been trained on which would likely reduced the accuracy further. The imbalance in the dataset also has the potential to have impacted the training of the model.\n",
        "\n",
        "The model that was trained has achived reasonable accuracy on images that it hasn't been trained on, although this must be tempered with the knowledge that the images in the test dataset are still from the same original dataset. In order to further test this model a new set of images should be gathered from other sources as at the minute it is possible that this model is only useful for diagnosing disease in chickens from the specific locations that these images were taken.\n",
        "\n",
        "It is also possible that these images may include some other clues as to what disease is present such as features in the background that the model has been trained to identify but these features may not be present in images gathered from other management systems or countries.\n",
        "\n",
        "In summary the model has reasonable accuracy on the images in this dataset and could be used as a screening test for some clinical diseases of chickens although further real world validation would be required before this could be relied on."
      ],
      "metadata": {
        "id": "vGghe334U5CK"
      }
    },
    {
      "cell_type": "markdown",
      "source": [
        "## 5. Literature\n",
        "\n",
        "Bergstra, James & Bengio, Y.. (2012). Random Search for Hyper-Parameter Optimization. The Journal of Machine Learning Research. 13. 281-305. \n",
        "\n",
        "Brodzicki, A., Piekarski, M., Kucharski, D., Jaworek-Korjakowska, J. and Gorgon, M. (2020). Transfer Learning Methods as a New Approach in Computer Vision Tasks with Small Datasets. Foundations of Computing and Decision Sciences, 45(3), pp.179–193. doi:10.2478/fcds-2020-0010.\n",
        "\n",
        "Mikołajczyk, A. and Grochowski, M. (2018). Data augmentation for improving deep learning in image classification problem. [online] IEEE Xplore. doi:10.1109/IIPHDW.2018.8388338.\n",
        "\n",
        "\n",
        "Viloria, A., Pineda Lezama, O.B. and Mercado-Caruzo, N. (2020). Unbalanced data processing using oversampling: Machine Learning. Procedia Computer Science, [online] 175, pp.108–113. doi:10.1016/j.procs.2020.07.018.\n",
        "\n",
        "‌\n",
        "Quach, L.-D., Quoc, N.P., Thi, N.H., Le Thanh, N., Thanh, X.T.T., Tran, D.C. and Hassan, M.F. (2022). An AI-Based Chicken Disease Management System. International Conference on Artificial Intelligence for Smart Community, pp.707–716. doi:10.1007/978-981-16-2183-3_68.\n",
        "\n",
        "‌"
      ],
      "metadata": {
        "id": "y_20Ypo2U7b_"
      }
    }
  ]
}